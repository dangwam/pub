{
 "cells": [
  {
   "cell_type": "code",
   "execution_count": 5,
   "id": "eaf41f3f-591c-4ef4-9894-264422a45b5f",
   "metadata": {},
   "outputs": [],
   "source": [
    "import pandas as pd\n",
    "from yahooquery import Ticker\n",
    "from datetime import datetime\n",
    "\n",
    "data_path = r'C:\\Users\\pythonProject\\data\\data_produced\\yquerry_screens\\options'\n",
    "today = datetime.today().strftime('%Y%m%d')\n",
    "file_name = data_path + f\"\\\\{today}_option_data_multiple_tickers.csv\"\n",
    "file_name_oi = data_path + f\"\\\\{today}_oi_data_multiple_tickers.csv\"\n"
   ]
  },
  {
   "cell_type": "code",
   "execution_count": 6,
   "id": "3e83d4ea-298f-4562-b158-01d9fc288893",
   "metadata": {},
   "outputs": [],
   "source": [
    "stock = 'FSR'\n",
    "file_name_temp = data_path + f\"\\\\{today}_{stock}_option_data.csv\"\n",
    "t = Ticker(stock, asynchronous=True)\n",
    "df = t.option_chain\n",
    "df.to_csv(file_name_temp)"
   ]
  },
  {
   "cell_type": "code",
   "execution_count": 2,
   "id": "0f3d5325-3ed6-48ab-bc4e-f618816727cd",
   "metadata": {},
   "outputs": [],
   "source": [
    "\n",
    "stocklist =['FSR','RIVN','TSLA','DIS','GM','HD','BABA','AAPL','APPS','PLTR',\n",
    "            'EXPR','MARA','GME','BB','RKT','HD','SCHW','NIO']\n",
    "#stocklist =['FSR']\n",
    "t = Ticker(stocklist, asynchronous=True)\n",
    "df = t.option_chain\n",
    "df.to_csv(file_name)"
   ]
  },
  {
   "cell_type": "code",
   "execution_count": 4,
   "id": "79edf065-7160-47d9-a678-7a577473fb44",
   "metadata": {},
   "outputs": [
    {
     "name": "stdout",
     "output_type": "stream",
     "text": [
      "  symbol  expiration optionType  strike  lastPrice  volume  openInterest\n",
      "0   AAPL  2024-01-26      calls    60.0     131.40     2.0             0\n",
      "1   AAPL  2024-01-26      calls    90.0      93.45     0.0             0\n",
      "2   AAPL  2024-01-26      calls   100.0      87.92     7.0             7\n",
      "3   AAPL  2024-01-26      calls   110.0      73.75     0.0             1\n",
      "4   AAPL  2024-01-26      calls   125.0      65.51     2.0             3\n"
     ]
    }
   ],
   "source": [
    "def optionratio():\n",
    "    \n",
    "    df_cols = ['symbol', 'expiration', 'optionType', 'strike','lastPrice', 'volume','openInterest']\n",
    "    group_cols = ['symbol','strike', 'expiration','optionType']\n",
    "    agg_dict = {'openInterest' : 'sum', 'volume' : 'sum'}\n",
    "    oi_df = pd.read_csv(file_name)\n",
    "    oi_df = oi_df.filter(df_cols)\n",
    "    print(oi_df.head())\n",
    "    oi_df = oi_df.groupby(group_cols).agg(agg_dict)\n",
    "    oi_df = oi_df.unstack(level = 3)\n",
    "    oi_df.to_csv(file_name_oi)\n",
    "    return oi_df\n",
    "\n",
    "df_temp = optionratio()\n"
   ]
  },
  {
   "cell_type": "code",
   "execution_count": null,
   "id": "627b9bf8-ed80-4f42-b272-78d9ffd6ff77",
   "metadata": {},
   "outputs": [],
   "source": []
  },
  {
   "cell_type": "code",
   "execution_count": null,
   "id": "821e759c-5cae-4275-aacf-6873a8777d9e",
   "metadata": {},
   "outputs": [],
   "source": []
  },
  {
   "cell_type": "code",
   "execution_count": null,
   "id": "2bf02521-433f-47d5-b01e-34744cb7fda2",
   "metadata": {},
   "outputs": [],
   "source": []
  }
 ],
 "metadata": {
  "kernelspec": {
   "display_name": "Python 3 (ipykernel)",
   "language": "python",
   "name": "python3"
  },
  "language_info": {
   "codemirror_mode": {
    "name": "ipython",
    "version": 3
   },
   "file_extension": ".py",
   "mimetype": "text/x-python",
   "name": "python",
   "nbconvert_exporter": "python",
   "pygments_lexer": "ipython3",
   "version": "3.10.13"
  }
 },
 "nbformat": 4,
 "nbformat_minor": 5
}
